{
  "nbformat": 4,
  "nbformat_minor": 0,
  "metadata": {
    "colab": {
      "name": "MLP.ipynb",
      "provenance": []
    },
    "kernelspec": {
      "name": "python3",
      "display_name": "Python 3"
    },
    "accelerator": "GPU"
  },
  "cells": [
    {
      "cell_type": "code",
      "metadata": {
        "colab": {
          "base_uri": "https://localhost:8080/"
        },
        "id": "FZR6_OvSl99K",
        "outputId": "e035d787-90e4-44b3-9e53-a59e755e3137"
      },
      "source": [
        "cd /content/drive/MyDrive/kaggledataset"
      ],
      "execution_count": 1,
      "outputs": [
        {
          "output_type": "stream",
          "text": [
            "/content/drive/.shortcut-targets-by-id/313/kaggledataset\n"
          ],
          "name": "stdout"
        }
      ]
    },
    {
      "cell_type": "code",
      "metadata": {
        "id": "eDf9AVijkwuL"
      },
      "source": [
        "# Import required libraries\r\n",
        "import pandas as pd\r\n",
        "import numpy as np \r\n",
        "import matplotlib.pyplot as plt\r\n",
        "import sklearn\r\n",
        "from sklearn.neural_network import MLPClassifier\r\n",
        "from sklearn.neural_network import MLPRegressor\r\n",
        "\r\n",
        "# Import necessary modules\r\n",
        "from sklearn.model_selection import train_test_split\r\n",
        "from sklearn.metrics import mean_squared_error\r\n",
        "from math import sqrt\r\n",
        "from sklearn.metrics import r2_score"
      ],
      "execution_count": 2,
      "outputs": []
    },
    {
      "cell_type": "code",
      "metadata": {
        "colab": {
          "base_uri": "https://localhost:8080/"
        },
        "id": "ABjHpiShk3yf",
        "outputId": "22198b32-a452-4252-d88a-b88ad4527692"
      },
      "source": [
        "df = pd.read_csv('clean.csv') \r\n",
        "print(df.shape)"
      ],
      "execution_count": 3,
      "outputs": [
        {
          "output_type": "stream",
          "text": [
            "(2481, 785)\n"
          ],
          "name": "stdout"
        }
      ]
    },
    {
      "cell_type": "code",
      "metadata": {
        "colab": {
          "base_uri": "https://localhost:8080/"
        },
        "id": "drLyZcd2oO64",
        "outputId": "44cd586a-050a-4509-ae06-c1c99fdd1e92"
      },
      "source": [
        "properties = list(df.columns.values)\r\n",
        "properties.remove('class')\r\n",
        "print(properties)\r\n",
        "X = df[properties]\r\n",
        "y = df['class']"
      ],
      "execution_count": 5,
      "outputs": [
        {
          "output_type": "stream",
          "text": [
            "['att_1', 'att_2', 'att_3', 'att_4', 'att_5', 'att_6', 'att_7', 'att_8', 'att_9', 'att_10', 'att_11', 'att_12', 'att_13', 'att_14', 'att_15', 'att_16', 'att_17', 'att_18', 'att_19', 'att_20', 'att_21', 'att_22', 'att_23', 'att_24', 'att_25', 'att_26', 'att_27', 'att_28', 'att_29', 'att_30', 'att_31', 'att_32', 'att_33', 'att_34', 'att_35', 'att_36', 'att_37', 'att_38', 'att_39', 'att_40', 'att_41', 'att_42', 'att_43', 'att_44', 'att_45', 'att_46', 'att_47', 'att_48', 'att_49', 'att_50', 'att_51', 'att_52', 'att_53', 'att_54', 'att_55', 'att_56', 'att_57', 'att_58', 'att_59', 'att_60', 'att_61', 'att_62', 'att_63', 'att_64', 'att_65', 'att_66', 'att_67', 'att_68', 'att_69', 'att_70', 'att_71', 'att_72', 'att_73', 'att_74', 'att_75', 'att_76', 'att_77', 'att_78', 'att_79', 'att_80', 'att_81', 'att_82', 'att_83', 'att_84', 'att_85', 'att_86', 'att_87', 'att_88', 'att_89', 'att_90', 'att_91', 'att_92', 'att_93', 'att_94', 'att_95', 'att_96', 'att_97', 'att_98', 'att_99', 'att_100', 'att_101', 'att_102', 'att_103', 'att_104', 'att_105', 'att_106', 'att_107', 'att_108', 'att_109', 'att_110', 'att_111', 'att_112', 'att_113', 'att_114', 'att_115', 'att_116', 'att_117', 'att_118', 'att_119', 'att_120', 'att_121', 'att_122', 'att_123', 'att_124', 'att_125', 'att_126', 'att_127', 'att_128', 'att_129', 'att_130', 'att_131', 'att_132', 'att_133', 'att_134', 'att_135', 'att_136', 'att_137', 'att_138', 'att_139', 'att_140', 'att_141', 'att_142', 'att_143', 'att_144', 'att_145', 'att_146', 'att_147', 'att_148', 'att_149', 'att_150', 'att_151', 'att_152', 'att_153', 'att_154', 'att_155', 'att_156', 'att_157', 'att_158', 'att_159', 'att_160', 'att_161', 'att_162', 'att_163', 'att_164', 'att_165', 'att_166', 'att_167', 'att_168', 'att_169', 'att_170', 'att_171', 'att_172', 'att_173', 'att_174', 'att_175', 'att_176', 'att_177', 'att_178', 'att_179', 'att_180', 'att_181', 'att_182', 'att_183', 'att_184', 'att_185', 'att_186', 'att_187', 'att_188', 'att_189', 'att_190', 'att_191', 'att_192', 'att_193', 'att_194', 'att_195', 'att_196', 'att_197', 'att_198', 'att_199', 'att_200', 'att_201', 'att_202', 'att_203', 'att_204', 'att_205', 'att_206', 'att_207', 'att_208', 'att_209', 'att_210', 'att_211', 'att_212', 'att_213', 'att_214', 'att_215', 'att_216', 'att_217', 'att_218', 'att_219', 'att_220', 'att_221', 'att_222', 'att_223', 'att_224', 'att_225', 'att_226', 'att_227', 'att_228', 'att_229', 'att_230', 'att_231', 'att_232', 'att_233', 'att_234', 'att_235', 'att_236', 'att_237', 'att_238', 'att_239', 'att_240', 'att_241', 'att_242', 'att_243', 'att_244', 'att_245', 'att_246', 'att_247', 'att_248', 'att_249', 'att_250', 'att_251', 'att_252', 'att_253', 'att_254', 'att_255', 'att_256', 'att_257', 'att_258', 'att_259', 'att_260', 'att_261', 'att_262', 'att_263', 'att_264', 'att_265', 'att_266', 'att_267', 'att_268', 'att_269', 'att_270', 'att_271', 'att_272', 'att_273', 'att_274', 'att_275', 'att_276', 'att_277', 'att_278', 'att_279', 'att_280', 'att_281', 'att_282', 'att_283', 'att_284', 'att_285', 'att_286', 'att_287', 'att_288', 'att_289', 'att_290', 'att_291', 'att_292', 'att_293', 'att_294', 'att_295', 'att_296', 'att_297', 'att_298', 'att_299', 'att_300', 'att_301', 'att_302', 'att_303', 'att_304', 'att_305', 'att_306', 'att_307', 'att_308', 'att_309', 'att_310', 'att_311', 'att_312', 'att_313', 'att_314', 'att_315', 'att_316', 'att_317', 'att_318', 'att_319', 'att_320', 'att_321', 'att_322', 'att_323', 'att_324', 'att_325', 'att_326', 'att_327', 'att_328', 'att_329', 'att_330', 'att_331', 'att_332', 'att_333', 'att_334', 'att_335', 'att_336', 'att_337', 'att_338', 'att_339', 'att_340', 'att_341', 'att_342', 'att_343', 'att_344', 'att_345', 'att_346', 'att_347', 'att_348', 'att_349', 'att_350', 'att_351', 'att_352', 'att_353', 'att_354', 'att_355', 'att_356', 'att_357', 'att_358', 'att_359', 'att_360', 'att_361', 'att_362', 'att_363', 'att_364', 'att_365', 'att_366', 'att_367', 'att_368', 'att_369', 'att_370', 'att_371', 'att_372', 'att_373', 'att_374', 'att_375', 'att_376', 'att_377', 'att_378', 'att_379', 'att_380', 'att_381', 'att_382', 'att_383', 'att_384', 'att_385', 'att_386', 'att_387', 'att_388', 'att_389', 'att_390', 'att_391', 'att_392', 'att_393', 'att_394', 'att_395', 'att_396', 'att_397', 'att_398', 'att_399', 'att_400', 'att_401', 'att_402', 'att_403', 'att_404', 'att_405', 'att_406', 'att_407', 'att_408', 'att_409', 'att_410', 'att_411', 'att_412', 'att_413', 'att_414', 'att_415', 'att_416', 'att_417', 'att_418', 'att_419', 'att_420', 'att_421', 'att_422', 'att_423', 'att_424', 'att_425', 'att_426', 'att_427', 'att_428', 'att_429', 'att_430', 'att_431', 'att_432', 'att_433', 'att_434', 'att_435', 'att_436', 'att_437', 'att_438', 'att_439', 'att_440', 'att_441', 'att_442', 'att_443', 'att_444', 'att_445', 'att_446', 'att_447', 'att_448', 'att_449', 'att_450', 'att_451', 'att_452', 'att_453', 'att_454', 'att_455', 'att_456', 'att_457', 'att_458', 'att_459', 'att_460', 'att_461', 'att_462', 'att_463', 'att_464', 'att_465', 'att_466', 'att_467', 'att_468', 'att_469', 'att_470', 'att_471', 'att_472', 'att_473', 'att_474', 'att_475', 'att_476', 'att_477', 'att_478', 'att_479', 'att_480', 'att_481', 'att_482', 'att_483', 'att_484', 'att_485', 'att_486', 'att_487', 'att_488', 'att_489', 'att_490', 'att_491', 'att_492', 'att_493', 'att_494', 'att_495', 'att_496', 'att_497', 'att_498', 'att_499', 'att_500', 'att_501', 'att_502', 'att_503', 'att_504', 'att_505', 'att_506', 'att_507', 'att_508', 'att_509', 'att_510', 'att_511', 'att_512', 'att_513', 'att_514', 'att_515', 'att_516', 'att_517', 'att_518', 'att_519', 'att_520', 'att_521', 'att_522', 'att_523', 'att_524', 'att_525', 'att_526', 'att_527', 'att_528', 'att_529', 'att_530', 'att_531', 'att_532', 'att_533', 'att_534', 'att_535', 'att_536', 'att_537', 'att_538', 'att_539', 'att_540', 'att_541', 'att_542', 'att_543', 'att_544', 'att_545', 'att_546', 'att_547', 'att_548', 'att_549', 'att_550', 'att_551', 'att_552', 'att_553', 'att_554', 'att_555', 'att_556', 'att_557', 'att_558', 'att_559', 'att_560', 'att_561', 'att_562', 'att_563', 'att_564', 'att_565', 'att_566', 'att_567', 'att_568', 'att_569', 'att_570', 'att_571', 'att_572', 'att_573', 'att_574', 'att_575', 'att_576', 'att_577', 'att_578', 'att_579', 'att_580', 'att_581', 'att_582', 'att_583', 'att_584', 'att_585', 'att_586', 'att_587', 'att_588', 'att_589', 'att_590', 'att_591', 'att_592', 'att_593', 'att_594', 'att_595', 'att_596', 'att_597', 'att_598', 'att_599', 'att_600', 'att_601', 'att_602', 'att_603', 'att_604', 'att_605', 'att_606', 'att_607', 'att_608', 'att_609', 'att_610', 'att_611', 'att_612', 'att_613', 'att_614', 'att_615', 'att_616', 'att_617', 'att_618', 'att_619', 'att_620', 'att_621', 'att_622', 'att_623', 'att_624', 'att_625', 'att_626', 'att_627', 'att_628', 'att_629', 'att_630', 'att_631', 'att_632', 'att_633', 'att_634', 'att_635', 'att_636', 'att_637', 'att_638', 'att_639', 'att_640', 'att_641', 'att_642', 'att_643', 'att_644', 'att_645', 'att_646', 'att_647', 'att_648', 'att_649', 'att_650', 'att_651', 'att_652', 'att_653', 'att_654', 'att_655', 'att_656', 'att_657', 'att_658', 'att_659', 'att_660', 'att_661', 'att_662', 'att_663', 'att_664', 'att_665', 'att_666', 'att_667', 'att_668', 'att_669', 'att_670', 'att_671', 'att_672', 'att_673', 'att_674', 'att_675', 'att_676', 'att_677', 'att_678', 'att_679', 'att_680', 'att_681', 'att_682', 'att_683', 'att_684', 'att_685', 'att_686', 'att_687', 'att_688', 'att_689', 'att_690', 'att_691', 'att_692', 'att_693', 'att_694', 'att_695', 'att_696', 'att_697', 'att_698', 'att_699', 'att_700', 'att_701', 'att_702', 'att_703', 'att_704', 'att_705', 'att_706', 'att_707', 'att_708', 'att_709', 'att_710', 'att_711', 'att_712', 'att_713', 'att_714', 'att_715', 'att_716', 'att_717', 'att_718', 'att_719', 'att_720', 'att_721', 'att_722', 'att_723', 'att_724', 'att_725', 'att_726', 'att_727', 'att_728', 'att_729', 'att_730', 'att_731', 'att_732', 'att_733', 'att_734', 'att_735', 'att_736', 'att_737', 'att_738', 'att_739', 'att_740', 'att_741', 'att_742', 'att_743', 'att_744', 'att_745', 'att_746', 'att_747', 'att_748', 'att_749', 'att_750', 'att_751', 'att_752', 'att_753', 'att_754', 'att_755', 'att_756', 'att_757', 'att_758', 'att_759', 'att_760', 'att_761', 'att_762', 'att_763', 'att_764', 'att_765', 'att_766', 'att_767', 'att_768', 'att_769', 'att_770', 'att_771', 'att_772', 'att_773', 'att_774', 'att_775', 'att_776', 'att_777', 'att_778', 'att_779', 'att_780', 'att_781', 'att_782', 'att_783', 'att_784']\n"
          ],
          "name": "stdout"
        }
      ]
    },
    {
      "cell_type": "code",
      "metadata": {
        "colab": {
          "base_uri": "https://localhost:8080/"
        },
        "id": "Pc6FwvtVobwt",
        "outputId": "4e5ae830-fb7e-4c10-b054-83dc169d2def"
      },
      "source": [
        "print(X.head())"
      ],
      "execution_count": 6,
      "outputs": [
        {
          "output_type": "stream",
          "text": [
            "      att_1     att_2     att_3  ...   att_782   att_783   att_784\n",
            "0  0.803922  0.803922  0.815686  ...  0.811765  0.807843  0.807843\n",
            "1  0.250980  0.294118  0.678431  ...  0.764706  0.780392  0.784314\n",
            "2  0.533333  0.780392  0.815686  ...  0.729412  0.439216  0.278431\n",
            "3  0.807843  0.807843  0.807843  ...  0.807843  0.835294  0.839216\n",
            "4  0.807843  0.803922  0.800000  ...  0.803922  0.803922  0.803922\n",
            "\n",
            "[5 rows x 784 columns]\n"
          ],
          "name": "stdout"
        }
      ]
    },
    {
      "cell_type": "code",
      "metadata": {
        "colab": {
          "base_uri": "https://localhost:8080/"
        },
        "id": "nnUuGAiGlSwD",
        "outputId": "a34c20c5-3fa4-4075-ac6d-9b18c93da0ee"
      },
      "source": [
        "X_train, X_test, y_train, y_test = train_test_split(X, y, test_size=0.30, random_state=40)\r\n",
        "print(X_train.shape); print(X_test.shape)"
      ],
      "execution_count": 7,
      "outputs": [
        {
          "output_type": "stream",
          "text": [
            "(1736, 784)\n",
            "(745, 784)\n"
          ],
          "name": "stdout"
        }
      ]
    },
    {
      "cell_type": "code",
      "metadata": {
        "id": "bR8NoQpdlnvr"
      },
      "source": [
        "from sklearn.neural_network import MLPClassifier\r\n",
        "\r\n",
        "mlp = MLPClassifier(hidden_layer_sizes=(8,8,8), activation='relu', solver='adam', max_iter=500)\r\n",
        "mlp.fit(X_train,y_train)\r\n",
        "\r\n",
        "predict_train = mlp.predict(X_train)\r\n",
        "predict_test = mlp.predict(X_test)"
      ],
      "execution_count": 8,
      "outputs": []
    },
    {
      "cell_type": "code",
      "metadata": {
        "colab": {
          "base_uri": "https://localhost:8080/"
        },
        "id": "_7nK4pOQlqrM",
        "outputId": "07c17eaf-f116-4a43-c9ed-a948f6b5cd0f"
      },
      "source": [
        "from sklearn.metrics import classification_report,confusion_matrix\r\n",
        "print(confusion_matrix(y_train,predict_train))\r\n",
        "print(classification_report(y_train,predict_train))"
      ],
      "execution_count": 9,
      "outputs": [
        {
          "output_type": "stream",
          "text": [
            "[[773  95]\n",
            " [ 94 774]]\n",
            "              precision    recall  f1-score   support\n",
            "\n",
            "           0       0.89      0.89      0.89       868\n",
            "           1       0.89      0.89      0.89       868\n",
            "\n",
            "    accuracy                           0.89      1736\n",
            "   macro avg       0.89      0.89      0.89      1736\n",
            "weighted avg       0.89      0.89      0.89      1736\n",
            "\n"
          ],
          "name": "stdout"
        }
      ]
    },
    {
      "cell_type": "code",
      "metadata": {
        "colab": {
          "base_uri": "https://localhost:8080/"
        },
        "id": "PJdl4wiDluVe",
        "outputId": "de83f3e4-3988-4ce9-94ec-793944ea1231"
      },
      "source": [
        "print(confusion_matrix(y_test,predict_test))\r\n",
        "print(classification_report(y_test,predict_test))"
      ],
      "execution_count": 10,
      "outputs": [
        {
          "output_type": "stream",
          "text": [
            "[[305  79]\n",
            " [ 58 303]]\n",
            "              precision    recall  f1-score   support\n",
            "\n",
            "           0       0.84      0.79      0.82       384\n",
            "           1       0.79      0.84      0.82       361\n",
            "\n",
            "    accuracy                           0.82       745\n",
            "   macro avg       0.82      0.82      0.82       745\n",
            "weighted avg       0.82      0.82      0.82       745\n",
            "\n"
          ],
          "name": "stdout"
        }
      ]
    }
  ]
}