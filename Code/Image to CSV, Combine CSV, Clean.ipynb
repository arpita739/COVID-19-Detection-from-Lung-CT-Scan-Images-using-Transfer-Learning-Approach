{
 "cells": [
  {
   "cell_type": "markdown",
   "metadata": {},
   "source": [
    "Image to CSV"
   ]
  },
  {
   "cell_type": "code",
   "execution_count": null,
   "metadata": {},
   "outputs": [],
   "source": [
    "import numpy as np\n",
    "from PIL import Image\n",
    "import cv2\n",
    "import os\n",
    "\n",
    "IMG_DIR = '/content/drive/MyDrive/kaggledataset/non-COVID'\n",
    "\n",
    "for img in os.listdir(IMG_DIR):\n",
    "    img_array = cv2.imread(os.path.join(IMG_DIR,img), cv2.IMREAD_GRAYSCALE)\n",
    "\n",
    "    img_pil = Image.fromarray(img_array)\n",
    "    img_28x28 = np.array(img_pil.resize((28, 28), Image.ANTIALIAS))\n",
    "\n",
    "    img_array = (img_28x28.flatten())\n",
    "\n",
    "    img_array  = img_array.reshape(-1,1).T\n",
    "\n",
    "    print(img_array)\n",
    "\n",
    "    with open('NONCOVID.csv', 'ab') as f:\n",
    "\n",
    "        np.savetxt(f, img_array, delimiter=\",\")"
   ]
  },
  {
   "cell_type": "markdown",
   "metadata": {},
   "source": [
    "Merge CSV"
   ]
  },
  {
   "cell_type": "code",
   "execution_count": null,
   "metadata": {},
   "outputs": [],
   "source": [
    "import csv\n",
    "reader = csv.reader(open(\"covid.csv\"))\n",
    "reader1 = csv.reader(open(\"NONCOVID.csv\"))\n",
    "f = open(\"combined_data.csv\", \"w\")\n",
    "writer = csv.writer(f)\n",
    "\n",
    "for row in reader:\n",
    "    writer.writerow(row)\n",
    "for row in reader1:\n",
    "    writer.writerow(row)\n",
    "f.close()"
   ]
  },
  {
   "cell_type": "markdown",
   "metadata": {},
   "source": [
    "Black rows will be deleted"
   ]
  },
  {
   "cell_type": "code",
   "execution_count": 1,
   "metadata": {
    "scrolled": true
   },
   "outputs": [],
   "source": [
    "import pandas as pd\n",
    "df = pd.read_csv('clean1.csv')\n",
    "df.dropna(axis=0, how='all',inplace=True)\n",
    "df.to_csv('clean2.csv', index=False)"
   ]
  },
  {
   "cell_type": "code",
   "execution_count": null,
   "metadata": {},
   "outputs": [],
   "source": []
  }
 ],
 "metadata": {
  "kernelspec": {
   "display_name": "Python 3",
   "language": "python",
   "name": "python3"
  },
  "language_info": {
   "codemirror_mode": {
    "name": "ipython",
    "version": 3
   },
   "file_extension": ".py",
   "mimetype": "text/x-python",
   "name": "python",
   "nbconvert_exporter": "python",
   "pygments_lexer": "ipython3",
   "version": "3.7.7"
  }
 },
 "nbformat": 4,
 "nbformat_minor": 4
}
