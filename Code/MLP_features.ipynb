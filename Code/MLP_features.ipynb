{
  "nbformat": 4,
  "nbformat_minor": 0,
  "metadata": {
    "colab": {
      "name": "MLP features.ipynb",
      "provenance": [],
      "collapsed_sections": []
    },
    "kernelspec": {
      "name": "python3",
      "display_name": "Python 3"
    },
    "accelerator": "GPU"
  },
  "cells": [
    {
      "cell_type": "code",
      "metadata": {
        "colab": {
          "base_uri": "https://localhost:8080/"
        },
        "id": "FZR6_OvSl99K",
        "outputId": "e87e864c-0329-4243-ea32-3493f2afb155"
      },
      "source": [
        "cd /content/drive/MyDrive/kaggledataset"
      ],
      "execution_count": 2,
      "outputs": [
        {
          "output_type": "stream",
          "text": [
            "/content/drive/.shortcut-targets-by-id/313/kaggledataset\n"
          ],
          "name": "stdout"
        }
      ]
    },
    {
      "cell_type": "code",
      "metadata": {
        "id": "eDf9AVijkwuL"
      },
      "source": [
        "# Import required libraries\r\n",
        "import pandas as pd\r\n",
        "import numpy as np \r\n",
        "import matplotlib.pyplot as plt\r\n",
        "import sklearn\r\n",
        "from sklearn.neural_network import MLPClassifier\r\n",
        "from sklearn.neural_network import MLPRegressor\r\n",
        "\r\n",
        "# Import necessary modules\r\n",
        "from sklearn.model_selection import train_test_split\r\n",
        "from sklearn.metrics import mean_squared_error\r\n",
        "from math import sqrt\r\n",
        "from sklearn.metrics import r2_score"
      ],
      "execution_count": 3,
      "outputs": []
    },
    {
      "cell_type": "code",
      "metadata": {
        "colab": {
          "base_uri": "https://localhost:8080/"
        },
        "id": "ABjHpiShk3yf",
        "outputId": "a51744ca-dfcb-402c-b2c9-a278e3ab00f5"
      },
      "source": [
        "df = pd.read_csv('newfeatures1.csv') \r\n",
        "print(df.shape)"
      ],
      "execution_count": 4,
      "outputs": [
        {
          "output_type": "stream",
          "text": [
            "(2481, 129)\n"
          ],
          "name": "stdout"
        }
      ]
    },
    {
      "cell_type": "code",
      "metadata": {
        "colab": {
          "base_uri": "https://localhost:8080/"
        },
        "id": "drLyZcd2oO64",
        "outputId": "93b807ff-efe5-4aac-885e-48447a6d534c"
      },
      "source": [
        "properties = list(df.columns.values)\r\n",
        "properties.remove('class')\r\n",
        "print(properties)\r\n",
        "X = df[properties]\r\n",
        "y = df['class']"
      ],
      "execution_count": 5,
      "outputs": [
        {
          "output_type": "stream",
          "text": [
            "['f_1', 'f_2', 'f_3', 'f_4', 'f_5', 'f_6', 'f_7', 'f_8', 'f_9', 'f_10', 'f_11', 'f_12', 'f_13', 'f_14', 'f_15', 'f_16', 'f_17', 'f_18', 'f_19', 'f_20', 'f_21', 'f_22', 'f_23', 'f_24', 'f_25', 'f_26', 'f_27', 'f_28', 'f_29', 'f_30', 'f_31', 'f_32', 'f_33', 'f_34', 'f_35', 'f_36', 'f_37', 'f_38', 'f_39', 'f_40', 'f_41', 'f_42', 'f_43', 'f_44', 'f_45', 'f_46', 'f_47', 'f_48', 'f_49', 'f_50', 'f_51', 'f_52', 'f_53', 'f_54', 'f_55', 'f_56', 'f_57', 'f_58', 'f_59', 'f_60', 'f_61', 'f_62', 'f_63', 'f_64', 'f_65', 'f_66', 'f_67', 'f_68', 'f_69', 'f_70', 'f_71', 'f_72', 'f_73', 'f_74', 'f_75', 'f_76', 'f_77', 'f_78', 'f_79', 'f_80', 'f_81', 'f_82', 'f_83', 'f_84', 'f_85', 'f_86', 'f_87', 'f_88', 'f_89', 'f_90', 'f_91', 'f_92', 'f_93', 'f_94', 'f_95', 'f_96', 'f_97', 'f_98', 'f_99', 'f_100', 'f_101', 'f_102', 'f_103', 'f_104', 'f_105', 'f_106', 'f_107', 'f_108', 'f_109', 'f_110', 'f_111', 'f_112', 'f_113', 'f_114', 'f_115', 'f_116', 'f_117', 'f_118', 'f_119', 'f_120', 'f_121', 'f_122', 'f_123', 'f_124', 'f_125', 'f_126', 'f_127', 'f_128']\n"
          ],
          "name": "stdout"
        }
      ]
    },
    {
      "cell_type": "code",
      "metadata": {
        "colab": {
          "base_uri": "https://localhost:8080/"
        },
        "id": "Pc6FwvtVobwt",
        "outputId": "314db594-15b5-41a0-a1af-aa0a04d7a43b"
      },
      "source": [
        "print(X.head())"
      ],
      "execution_count": 6,
      "outputs": [
        {
          "output_type": "stream",
          "text": [
            "   f_1  f_2  f_3  f_4  f_5  f_6  ...  f_123  f_124  f_125  f_126  f_127  f_128\n",
            "0    0    0    0    0    0    0  ...      0      0      0      0      0      0\n",
            "1    0    0    0    0    0    0  ...      0      0      0      0      0      0\n",
            "2    0    0    0    0    0    0  ...      0      0      0      0      0      0\n",
            "3    0    0    0    0    0    0  ...      0      0      0      0      0      0\n",
            "4    0    0    0    0    0    0  ...      0      0      0      0      0      0\n",
            "\n",
            "[5 rows x 128 columns]\n"
          ],
          "name": "stdout"
        }
      ]
    },
    {
      "cell_type": "code",
      "metadata": {
        "colab": {
          "base_uri": "https://localhost:8080/"
        },
        "id": "nnUuGAiGlSwD",
        "outputId": "479a1d7d-db70-4af2-99e2-be964294c6e2"
      },
      "source": [
        "X_train, X_test, y_train, y_test = train_test_split(X, y, test_size=0.30, random_state=40)\r\n",
        "print(X_train.shape); print(X_test.shape)"
      ],
      "execution_count": 7,
      "outputs": [
        {
          "output_type": "stream",
          "text": [
            "(1736, 128)\n",
            "(745, 128)\n"
          ],
          "name": "stdout"
        }
      ]
    },
    {
      "cell_type": "code",
      "metadata": {
        "id": "bR8NoQpdlnvr"
      },
      "source": [
        "from sklearn.neural_network import MLPClassifier\r\n",
        "\r\n",
        "mlp = MLPClassifier(hidden_layer_sizes=(8,8,8), activation='relu', solver='adam', max_iter=500)\r\n",
        "mlp.fit(X_train,y_train)\r\n",
        "\r\n",
        "predict_train = mlp.predict(X_train)\r\n",
        "predict_test = mlp.predict(X_test)"
      ],
      "execution_count": 8,
      "outputs": []
    },
    {
      "cell_type": "code",
      "metadata": {
        "colab": {
          "base_uri": "https://localhost:8080/"
        },
        "id": "_7nK4pOQlqrM",
        "outputId": "83b1a0f9-e6a2-4de0-f08d-ee4745f41a87"
      },
      "source": [
        "from sklearn.metrics import classification_report,confusion_matrix\r\n",
        "print(confusion_matrix(y_train,predict_train))\r\n",
        "print(classification_report(y_train,predict_train))"
      ],
      "execution_count": 11,
      "outputs": [
        {
          "output_type": "stream",
          "text": [
            "[[484 384]\n",
            " [217 651]]\n",
            "              precision    recall  f1-score   support\n",
            "\n",
            "           0       0.69      0.56      0.62       868\n",
            "           1       0.63      0.75      0.68       868\n",
            "\n",
            "    accuracy                           0.65      1736\n",
            "   macro avg       0.66      0.65      0.65      1736\n",
            "weighted avg       0.66      0.65      0.65      1736\n",
            "\n"
          ],
          "name": "stdout"
        }
      ]
    },
    {
      "cell_type": "code",
      "metadata": {
        "colab": {
          "base_uri": "https://localhost:8080/"
        },
        "id": "PJdl4wiDluVe",
        "outputId": "4e33fec2-828e-462d-a0c6-f09f46ab4a47"
      },
      "source": [
        "print(confusion_matrix(y_test,predict_test))\r\n",
        "print(classification_report(y_test,predict_test))"
      ],
      "execution_count": 12,
      "outputs": [
        {
          "output_type": "stream",
          "text": [
            "[[218 166]\n",
            " [ 77 284]]\n",
            "              precision    recall  f1-score   support\n",
            "\n",
            "           0       0.74      0.57      0.64       384\n",
            "           1       0.63      0.79      0.70       361\n",
            "\n",
            "    accuracy                           0.67       745\n",
            "   macro avg       0.69      0.68      0.67       745\n",
            "weighted avg       0.69      0.67      0.67       745\n",
            "\n"
          ],
          "name": "stdout"
        }
      ]
    }
  ]
}